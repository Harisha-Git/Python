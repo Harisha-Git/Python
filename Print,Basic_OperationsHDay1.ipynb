{
  "nbformat": 4,
  "nbformat_minor": 0,
  "metadata": {
    "colab": {
      "provenance": [],
      "toc_visible": true,
      "authorship_tag": "ABX9TyN29ToAcZHL20WJ87+fVzXU",
      "include_colab_link": true
    },
    "kernelspec": {
      "name": "python3",
      "display_name": "Python 3"
    },
    "language_info": {
      "name": "python"
    }
  },
  "cells": [
    {
      "cell_type": "markdown",
      "metadata": {
        "id": "view-in-github",
        "colab_type": "text"
      },
      "source": [
        "<a href=\"https://colab.research.google.com/github/Harisha-Git/Python/blob/main/Print%2CBasic_OperationsHDay1.ipynb\" target=\"_parent\"><img src=\"https://colab.research.google.com/assets/colab-badge.svg\" alt=\"Open In Colab\"/></a>"
      ]
    },
    {
      "cell_type": "code",
      "execution_count": null,
      "metadata": {
        "colab": {
          "base_uri": "https://localhost:8080/"
        },
        "id": "5WEoSHN2mkMg",
        "outputId": "caebe68b-c58f-478e-8b15-d768bc2ec802"
      },
      "outputs": [
        {
          "output_type": "stream",
          "name": "stdout",
          "text": [
            "i love to learn python\n"
          ]
        }
      ],
      "source": [
        "print(\"i love to learn python\")"
      ]
    },
    {
      "cell_type": "code",
      "source": [
        "print('''In python for single line statement double quotes are used for mulitple line tripple quotes are used''')"
      ],
      "metadata": {
        "colab": {
          "base_uri": "https://localhost:8080/"
        },
        "id": "pBiUMq4HrXZL",
        "outputId": "b780a161-eb0d-4323-b944-5ca7f07d4867"
      },
      "execution_count": null,
      "outputs": [
        {
          "output_type": "stream",
          "name": "stdout",
          "text": [
            "In python for single line statement double quotes are used for mulitple line tripple quotes are used\n"
          ]
        }
      ]
    },
    {
      "cell_type": "markdown",
      "source": [],
      "metadata": {
        "id": "tZ7x9xVDrtPT"
      }
    },
    {
      "cell_type": "code",
      "source": [
        "# if there are any quotes in between the line use \\ escape before quote\n",
        "print('''i love python '''In python for single line statement double quotes are used for mulitple line tripple quotes are used''' )"
      ],
      "metadata": {
        "colab": {
          "base_uri": "https://localhost:8080/",
          "height": 106
        },
        "id": "9ydY_cCXsrzm",
        "outputId": "15f07e7c-94a0-4324-a0cb-ab62769dff35"
      },
      "execution_count": null,
      "outputs": [
        {
          "output_type": "error",
          "ename": "SyntaxError",
          "evalue": "unterminated triple-quoted string literal (detected at line 2) (<ipython-input-8-bb7e18c06eef>, line 2)",
          "traceback": [
            "\u001b[0;36m  File \u001b[0;32m\"<ipython-input-8-bb7e18c06eef>\"\u001b[0;36m, line \u001b[0;32m2\u001b[0m\n\u001b[0;31m    print('''i love python '''In python for single line statement double quotes are used for mulitple line tripple quotes are used''' )\u001b[0m\n\u001b[0m                                                                                                                                  ^\u001b[0m\n\u001b[0;31mSyntaxError\u001b[0m\u001b[0;31m:\u001b[0m unterminated triple-quoted string literal (detected at line 2)\n"
          ]
        }
      ]
    },
    {
      "cell_type": "code",
      "source": [
        "print('''i love python \\'\\'\\'In python for single line statement double quotes are used for mulitple line tripple quotes are used''' )"
      ],
      "metadata": {
        "colab": {
          "base_uri": "https://localhost:8080/"
        },
        "id": "jxGZmProtnog",
        "outputId": "5d381109-4bab-41b0-9e6e-5c3df035c359"
      },
      "execution_count": null,
      "outputs": [
        {
          "output_type": "stream",
          "name": "stdout",
          "text": [
            "i love python '''In python for single line statement double quotes are used for mulitple line tripple quotes are used\n"
          ]
        }
      ]
    },
    {
      "cell_type": "code",
      "source": [
        "print('''i love python In python for single line statement \\n slash n is used for new line''') #\\n is for new line"
      ],
      "metadata": {
        "colab": {
          "base_uri": "https://localhost:8080/"
        },
        "id": "TYed07ia0293",
        "outputId": "33f8e0b7-f26a-4b54-f40f-33c24d8a4a7e"
      },
      "execution_count": null,
      "outputs": [
        {
          "output_type": "stream",
          "name": "stdout",
          "text": [
            "i love python In python for single line statement \n",
            " double quotes are used for mulitple line tripple quotes are used\n"
          ]
        }
      ]
    },
    {
      "cell_type": "code",
      "source": [
        "print('''i love python In python for single line statement \\\\n slash n is used for new line''')"
      ],
      "metadata": {
        "colab": {
          "base_uri": "https://localhost:8080/"
        },
        "id": "_Lorry_w5Zwc",
        "outputId": "21cc21a1-a836-4708-b6df-3184575b57d6"
      },
      "execution_count": null,
      "outputs": [
        {
          "output_type": "stream",
          "name": "stdout",
          "text": [
            "i love python In python for single line statement \\n slash n is used for new line\n"
          ]
        }
      ]
    },
    {
      "cell_type": "code",
      "source": [
        "print('''i love python In python for single line statement \\t slash t is used for tab space''') #\\t is used for tab space"
      ],
      "metadata": {
        "colab": {
          "base_uri": "https://localhost:8080/"
        },
        "id": "c1YGTFR-16Bo",
        "outputId": "8a409a8b-1e95-4c72-cb13-abce064c8d05"
      },
      "execution_count": null,
      "outputs": [
        {
          "output_type": "stream",
          "name": "stdout",
          "text": [
            "i love python In python for single line statement \t slash t is used for tab space\n"
          ]
        }
      ]
    },
    {
      "cell_type": "code",
      "source": [
        "print('''i love python In python for single line statement \\\\t slash t is used for tab space''')"
      ],
      "metadata": {
        "colab": {
          "base_uri": "https://localhost:8080/"
        },
        "id": "SLD_SF_e5gvr",
        "outputId": "51f53f98-58f0-409a-9d62-d884d373540f"
      },
      "execution_count": null,
      "outputs": [
        {
          "output_type": "stream",
          "name": "stdout",
          "text": [
            "i love python In python for single line statement \\t slash t is used for tab space\n"
          ]
        }
      ]
    },
    {
      "cell_type": "code",
      "source": [
        "print(\" i \"\" love \"\" python \")"
      ],
      "metadata": {
        "colab": {
          "base_uri": "https://localhost:8080/"
        },
        "id": "fHzLkLbG6PQr",
        "outputId": "3f6af42b-69b9-4aea-f446-b3ad9fa8b658"
      },
      "execution_count": null,
      "outputs": [
        {
          "output_type": "stream",
          "name": "stdout",
          "text": [
            " i  love  python \n"
          ]
        }
      ]
    },
    {
      "cell_type": "code",
      "source": [
        "print(\"i\",\"love\",\"python\",sep=\"-\")"
      ],
      "metadata": {
        "colab": {
          "base_uri": "https://localhost:8080/"
        },
        "id": "KMTQ7H-q6pjY",
        "outputId": "1f608b9f-1109-4b0e-b1fb-f3c5665b4a89"
      },
      "execution_count": null,
      "outputs": [
        {
          "output_type": "stream",
          "name": "stdout",
          "text": [
            "i-love-python\n"
          ]
        }
      ]
    },
    {
      "cell_type": "code",
      "source": [
        "print(\"i\",\"love\",\"python\",end=\"-\")"
      ],
      "metadata": {
        "id": "Omt5Zlgv7XkF",
        "outputId": "c689f60a-4778-4237-d44f-43d0bbfd20f0",
        "colab": {
          "base_uri": "https://localhost:8080/"
        }
      },
      "execution_count": null,
      "outputs": [
        {
          "output_type": "stream",
          "name": "stdout",
          "text": [
            "i love python-"
          ]
        }
      ]
    },
    {
      "cell_type": "markdown",
      "source": [
        "Variable naming conventions & Assignement"
      ],
      "metadata": {
        "id": "oBHwqwi_Bfx-"
      }
    },
    {
      "cell_type": "code",
      "source": [
        "1name = \"harisha\""
      ],
      "metadata": {
        "colab": {
          "base_uri": "https://localhost:8080/",
          "height": 106
        },
        "id": "8OE6jtNoBhh_",
        "outputId": "85fcac68-0f48-49f5-dc0a-fcd4d3de8989"
      },
      "execution_count": null,
      "outputs": [
        {
          "output_type": "error",
          "ename": "SyntaxError",
          "evalue": "invalid decimal literal (<ipython-input-25-ce399459db44>, line 1)",
          "traceback": [
            "\u001b[0;36m  File \u001b[0;32m\"<ipython-input-25-ce399459db44>\"\u001b[0;36m, line \u001b[0;32m1\u001b[0m\n\u001b[0;31m    1name = \"harisha\"\u001b[0m\n\u001b[0m    ^\u001b[0m\n\u001b[0;31mSyntaxError\u001b[0m\u001b[0;31m:\u001b[0m invalid decimal literal\n"
          ]
        }
      ]
    },
    {
      "cell_type": "code",
      "source": [
        "-name = \"harisha\""
      ],
      "metadata": {
        "colab": {
          "base_uri": "https://localhost:8080/",
          "height": 106
        },
        "id": "uXFVaoFhBvOj",
        "outputId": "bc4d79c3-8ecf-4745-8042-9051fd2a961f"
      },
      "execution_count": null,
      "outputs": [
        {
          "output_type": "error",
          "ename": "SyntaxError",
          "evalue": "cannot assign to expression here. Maybe you meant '==' instead of '='? (<ipython-input-26-296f21b3cbe3>, line 1)",
          "traceback": [
            "\u001b[0;36m  File \u001b[0;32m\"<ipython-input-26-296f21b3cbe3>\"\u001b[0;36m, line \u001b[0;32m1\u001b[0m\n\u001b[0;31m    -name = \"harisha\"\u001b[0m\n\u001b[0m    ^\u001b[0m\n\u001b[0;31mSyntaxError\u001b[0m\u001b[0;31m:\u001b[0m cannot assign to expression here. Maybe you meant '==' instead of '='?\n"
          ]
        }
      ]
    },
    {
      "cell_type": "code",
      "source": [
        "_name = \"harisha\" # name is like a variable anything provided in double quotes is nothing but sting"
      ],
      "metadata": {
        "id": "c-LkZvyBB0_N"
      },
      "execution_count": null,
      "outputs": []
    },
    {
      "cell_type": "code",
      "source": [
        "name2 = \"harisha\""
      ],
      "metadata": {
        "id": "dL7K0TxuCQnD"
      },
      "execution_count": null,
      "outputs": []
    },
    {
      "cell_type": "code",
      "source": [
        "pro_lang = \"harisha\""
      ],
      "metadata": {
        "id": "DFfl7RvkCdfP"
      },
      "execution_count": null,
      "outputs": []
    },
    {
      "cell_type": "code",
      "source": [
        "ProLang =\"harisha\""
      ],
      "metadata": {
        "id": "TJu0dQvtCkig"
      },
      "execution_count": null,
      "outputs": []
    },
    {
      "cell_type": "code",
      "source": [
        "month = 12\n"
      ],
      "metadata": {
        "id": "9K6AAtebC2ss"
      },
      "execution_count": null,
      "outputs": []
    },
    {
      "cell_type": "code",
      "source": [
        "month"
      ],
      "metadata": {
        "colab": {
          "base_uri": "https://localhost:8080/"
        },
        "id": "-DQvnMNuC_Dp",
        "outputId": "b8489fb4-c78b-4ae3-debe-4530cb07cced"
      },
      "execution_count": null,
      "outputs": [
        {
          "output_type": "execute_result",
          "data": {
            "text/plain": [
              "12"
            ]
          },
          "metadata": {},
          "execution_count": 37
        }
      ]
    },
    {
      "cell_type": "code",
      "source": [
        "month = \"12\""
      ],
      "metadata": {
        "id": "uVQsH70zDAh2"
      },
      "execution_count": null,
      "outputs": []
    },
    {
      "cell_type": "code",
      "source": [
        "month"
      ],
      "metadata": {
        "colab": {
          "base_uri": "https://localhost:8080/",
          "height": 35
        },
        "id": "L5b_OFCKDO9Y",
        "outputId": "ea637a47-0594-44ba-d334-7eafff2b4788"
      },
      "execution_count": null,
      "outputs": [
        {
          "output_type": "execute_result",
          "data": {
            "text/plain": [
              "'12'"
            ],
            "application/vnd.google.colaboratory.intrinsic+json": {
              "type": "string"
            }
          },
          "metadata": {},
          "execution_count": 39
        }
      ]
    },
    {
      "cell_type": "code",
      "source": [
        "month = int(month)\n",
        "print(month)"
      ],
      "metadata": {
        "colab": {
          "base_uri": "https://localhost:8080/"
        },
        "id": "g69YcltyDUAK",
        "outputId": "bed17130-e82c-425a-f5a0-d4e24c37890d"
      },
      "execution_count": null,
      "outputs": [
        {
          "output_type": "stream",
          "name": "stdout",
          "text": [
            "12\n"
          ]
        }
      ]
    },
    {
      "cell_type": "code",
      "source": [
        "price = 2.5\n",
        "price"
      ],
      "metadata": {
        "colab": {
          "base_uri": "https://localhost:8080/"
        },
        "id": "SgQVykeo7JQI",
        "outputId": "f011242f-036c-4107-d3dd-c1f7d70985b8"
      },
      "execution_count": 1,
      "outputs": [
        {
          "output_type": "execute_result",
          "data": {
            "text/plain": [
              "2.5"
            ]
          },
          "metadata": {},
          "execution_count": 1
        }
      ]
    },
    {
      "cell_type": "markdown",
      "source": [
        "## Basic Arthematic Operations"
      ],
      "metadata": {
        "id": "o9YXUOhA7iA8"
      }
    },
    {
      "cell_type": "code",
      "source": [
        "a=10\n",
        "b=20\n",
        "# adding two numbers\n",
        "print (\"sum of a & b is\", a + b)"
      ],
      "metadata": {
        "colab": {
          "base_uri": "https://localhost:8080/"
        },
        "id": "KhjZaJ_e7nTE",
        "outputId": "e088c192-199e-4ab1-9d15-02e4f2964cd2"
      },
      "execution_count": 31,
      "outputs": [
        {
          "output_type": "stream",
          "name": "stdout",
          "text": [
            "sum of a & b is 30\n"
          ]
        }
      ]
    },
    {
      "cell_type": "code",
      "source": [
        "a=5\n",
        "b=2\n",
        "print (f\"sum of {a} & {b} is\", a + b)"
      ],
      "metadata": {
        "colab": {
          "base_uri": "https://localhost:8080/"
        },
        "id": "4K2pRylu_DL9",
        "outputId": "9fce907c-e63b-457a-9354-64d809606beb"
      },
      "execution_count": 33,
      "outputs": [
        {
          "output_type": "stream",
          "name": "stdout",
          "text": [
            "sum of 5 & 2 is 7\n"
          ]
        }
      ]
    },
    {
      "cell_type": "code",
      "source": [
        "a=5\n",
        "b=2\n",
        "# substraction of two numbers\n",
        "print (f\"Substarction of {a} & {b} is\", a - b)\n"
      ],
      "metadata": {
        "colab": {
          "base_uri": "https://localhost:8080/"
        },
        "id": "l0vUd0e2_Wkk",
        "outputId": "faa797dd-9450-4c12-a18f-648352fba2d1"
      },
      "execution_count": 36,
      "outputs": [
        {
          "output_type": "stream",
          "name": "stdout",
          "text": [
            "Substarction of 5 & 2 is 3\n"
          ]
        }
      ]
    },
    {
      "cell_type": "code",
      "source": [
        "a=6\n",
        "b=3\n",
        "# multiplicationm of two numbers\n",
        "print (f\"multiplication of {a} & {b} is\", a * b)"
      ],
      "metadata": {
        "colab": {
          "base_uri": "https://localhost:8080/"
        },
        "id": "uYkA63Lw_xrE",
        "outputId": "5dbbb990-c191-4051-c226-dc28f6a0b9e7"
      },
      "execution_count": 37,
      "outputs": [
        {
          "output_type": "stream",
          "name": "stdout",
          "text": [
            "multiplication of 6 & 3 is 18\n"
          ]
        }
      ]
    },
    {
      "cell_type": "code",
      "source": [
        "a=9\n",
        "b=3\n",
        "# division of two numbers\n",
        "print (f\"division of {a} & {b} is\", a / b)\n",
        "\n",
        " #integer division\n",
        "print(f\"integer division of {a} & {b} is \", a // b )\n",
        "\n",
        "# modulus of a number 9/3=3, 9-(3*3)=0\n",
        "print(f\"modulus of {a} & {b} is \", a % b )\n",
        "\n",
        "\n",
        "# multiplication of two numbers\n",
        "print(f\"multiplication of {a} & {b} is \", a * b )\n",
        "# exponent of a number 9 power 3 = 729\n",
        "print(f\"exponent of {a} & {b} is \", a ** b )\n"
      ],
      "metadata": {
        "colab": {
          "base_uri": "https://localhost:8080/"
        },
        "id": "Qm5eGj0IAFiG",
        "outputId": "f731abb6-8e9b-4720-fb3b-3ba5753e0886"
      },
      "execution_count": 39,
      "outputs": [
        {
          "output_type": "stream",
          "name": "stdout",
          "text": [
            "division of 9 & 3 is 3.0\n",
            "integer division of 9 & 3 is  3\n",
            "modulus of 9 & 3 is  0\n",
            "multiplication of 9 & 3 is  27\n",
            "exponent of 9 & 3 is  729\n"
          ]
        }
      ]
    },
    {
      "cell_type": "markdown",
      "source": [],
      "metadata": {
        "id": "MXkPZjNPCYpC"
      }
    },
    {
      "cell_type": "code",
      "source": [],
      "metadata": {
        "id": "pTnTUJfxCkho"
      },
      "execution_count": null,
      "outputs": []
    }
  ]
}
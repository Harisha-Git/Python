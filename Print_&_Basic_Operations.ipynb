{
  "nbformat": 4,
  "nbformat_minor": 0,
  "metadata": {
    "colab": {
      "provenance": [],
      "authorship_tag": "ABX9TyPJrDINBrRgT/mYWd+Xn1Ii",
      "include_colab_link": true
    },
    "kernelspec": {
      "name": "python3",
      "display_name": "Python 3"
    },
    "language_info": {
      "name": "python"
    }
  },
  "cells": [
    {
      "cell_type": "markdown",
      "metadata": {
        "id": "view-in-github",
        "colab_type": "text"
      },
      "source": [
        "<a href=\"https://colab.research.google.com/github/Harisha-Git/Python/blob/main/Print_%26_Basic_Operations.ipynb\" target=\"_parent\"><img src=\"https://colab.research.google.com/assets/colab-badge.svg\" alt=\"Open In Colab\"/></a>"
      ]
    },
    {
      "cell_type": "code",
      "execution_count": 1,
      "metadata": {
        "colab": {
          "base_uri": "https://localhost:8080/",
          "height": 141
        },
        "id": "xfRMo1nrQMXd",
        "outputId": "99d8c105-fff5-4ac7-bd17-7bf1d7719c13"
      },
      "outputs": [
        {
          "output_type": "error",
          "ename": "NameError",
          "evalue": "name 'am' is not defined",
          "traceback": [
            "\u001b[0;31m---------------------------------------------------------------------------\u001b[0m",
            "\u001b[0;31mNameError\u001b[0m                                 Traceback (most recent call last)",
            "\u001b[0;32m<ipython-input-1-583edeabd189>\u001b[0m in \u001b[0;36m<cell line: 1>\u001b[0;34m()\u001b[0m\n\u001b[0;32m----> 1\u001b[0;31m \u001b[0mprint\u001b[0m\u001b[0;34m(\u001b[0m\u001b[0mam\u001b[0m\u001b[0;34m)\u001b[0m\u001b[0;34m\u001b[0m\u001b[0;34m\u001b[0m\u001b[0m\n\u001b[0m",
            "\u001b[0;31mNameError\u001b[0m: name 'am' is not defined"
          ]
        }
      ],
      "source": [
        "print(am)"
      ]
    },
    {
      "cell_type": "code",
      "source": [
        "print(\"I am learing python\") # syntax for print is print() to get output we have to mention like below\n",
        "print('I am learing AI')\n",
        "print(\"I am learing python \\nI am learing AI\")"
      ],
      "metadata": {
        "colab": {
          "base_uri": "https://localhost:8080/"
        },
        "id": "P0VY2xUXQj86",
        "outputId": "16b1ac25-2769-4cdb-dec5-ef22d76a05da"
      },
      "execution_count": 2,
      "outputs": [
        {
          "output_type": "stream",
          "name": "stdout",
          "text": [
            "I am learing python\n",
            "I am learing AI\n",
            "I am learing python \n",
            "I am learing AI\n"
          ]
        }
      ]
    },
    {
      "cell_type": "code",
      "source": [
        "#Print with Newlines: Write a program to print the following using multiple print() statements : \\n is used\n",
        "print(\"Hello\\nWorld\")"
      ],
      "metadata": {
        "colab": {
          "base_uri": "https://localhost:8080/"
        },
        "id": "bQbySpnGTRCe",
        "outputId": "c27603f9-9ccb-41d3-d5c8-e11746b66926"
      },
      "execution_count": 3,
      "outputs": [
        {
          "output_type": "stream",
          "name": "stdout",
          "text": [
            "Hello\n",
            "World\n"
          ]
        }
      ]
    },
    {
      "cell_type": "code",
      "source": [
        "#Print with Tab Spaces: Write a Python program to print three words with a tab space between them.  : \\tis used\n",
        "#Example output: apple orange banana\n",
        "print(\"Apple\\tBanana\\tOrange\")"
      ],
      "metadata": {
        "colab": {
          "base_uri": "https://localhost:8080/"
        },
        "id": "mmsBHE-ZTnef",
        "outputId": "3ac6c0de-e38b-428d-c17f-d864f684e223"
      },
      "execution_count": 4,
      "outputs": [
        {
          "output_type": "stream",
          "name": "stdout",
          "text": [
            "Apple\tBanana\tOrange\n"
          ]
        }
      ]
    },
    {
      "cell_type": "code",
      "source": [
        "#Using Escape Sequences: Print the following message using escape sequences: \\ is used before specialchar\n",
        "#He said, \"Python is awesome!\"\n",
        "print(\"He said, \"Python is awesome\"\")"
      ],
      "metadata": {
        "colab": {
          "base_uri": "https://localhost:8080/",
          "height": 106
        },
        "id": "dsZpuo1DT8HL",
        "outputId": "b47ae2a1-b398-4c54-c312-1fa795aa314f"
      },
      "execution_count": 5,
      "outputs": [
        {
          "output_type": "error",
          "ename": "SyntaxError",
          "evalue": "invalid syntax. Perhaps you forgot a comma? (<ipython-input-5-cbb2cd8e46e2>, line 3)",
          "traceback": [
            "\u001b[0;36m  File \u001b[0;32m\"<ipython-input-5-cbb2cd8e46e2>\"\u001b[0;36m, line \u001b[0;32m3\u001b[0m\n\u001b[0;31m    print(\"He said, \"Python is awesome\"\")\u001b[0m\n\u001b[0m          ^\u001b[0m\n\u001b[0;31mSyntaxError\u001b[0m\u001b[0;31m:\u001b[0m invalid syntax. Perhaps you forgot a comma?\n"
          ]
        }
      ]
    },
    {
      "cell_type": "code",
      "source": [
        "print(\"He said, \\\"Python is awesome!\\\"\")"
      ],
      "metadata": {
        "id": "SxMYzQIuVB0G"
      },
      "execution_count": null,
      "outputs": []
    },
    {
      "cell_type": "code",
      "source": [
        "#Backslashes in Strings: Print the following string, ensuring the backslash is visible: C:\\Users\\John.\n",
        "print(\"C:\\\\Users\\\\John\")"
      ],
      "metadata": {
        "id": "9DJd2CBoVggu"
      },
      "execution_count": null,
      "outputs": []
    },
    {
      "cell_type": "code",
      "source": [
        "#Printing Variables:\n",
        "#Printing a Variable: Write a Python program that assigns a value to a variable x and then prints it.\n",
        "x=12\n",
        "print(x)"
      ],
      "metadata": {
        "colab": {
          "base_uri": "https://localhost:8080/"
        },
        "id": "8Z4z1CstV-Xm",
        "outputId": "da0fc743-edcb-4c75-b0d7-9d3978584473"
      },
      "execution_count": 7,
      "outputs": [
        {
          "output_type": "stream",
          "name": "stdout",
          "text": [
            "12\n"
          ]
        }
      ]
    },
    {
      "cell_type": "code",
      "source": [
        "#Printing Multiple Variables: Assign values to two variables, name and age, and print them in the sentence \"My name is [name] and I am [age] years old.\"\n",
        "#print(f\"{}\"\") fstring\n",
        "name=(\"Tarak\")\n",
        "age=5\n",
        "print(f\"My name is {name} and I am {age} years old.\")\n"
      ],
      "metadata": {
        "colab": {
          "base_uri": "https://localhost:8080/"
        },
        "id": "vSHgOAJ9Yu8j",
        "outputId": "e46f61e4-2bab-464e-ce61-68caa0e3cb1e"
      },
      "execution_count": 18,
      "outputs": [
        {
          "output_type": "stream",
          "name": "stdout",
          "text": [
            "My name is Tarak and I am 5 years old.\n"
          ]
        }
      ]
    },
    {
      "cell_type": "code",
      "source": [
        "#Using print() with Multiple Arguments: Print the following without using concatenation: \"I have 5 apples and 3 oranges.\"\n",
        "print(\"I have\", \"5\", \"apples\", \"and\", 3, \"oranges\")"
      ],
      "metadata": {
        "colab": {
          "base_uri": "https://localhost:8080/"
        },
        "id": "zfWmLbSVpHNG",
        "outputId": "1366716a-585a-4329-be83-23aeb03a027d"
      },
      "execution_count": 21,
      "outputs": [
        {
          "output_type": "stream",
          "name": "stdout",
          "text": [
            "I have 5 apples and 3 oranges\n"
          ]
        }
      ]
    },
    {
      "cell_type": "code",
      "source": [
        "# Formatting with sep Parameter: Print the numbers 1, 2, and 3 with a space between them using the sep parameter.sep =\"\"used"
      ],
      "metadata": {
        "id": "Rd9FzLjIceE9"
      },
      "execution_count": null,
      "outputs": []
    },
    {
      "cell_type": "code",
      "source": [
        "print(\"1\",\"2\",\"3\",sep=\"-\")"
      ],
      "metadata": {
        "colab": {
          "base_uri": "https://localhost:8080/"
        },
        "id": "qPkJO256dK1R",
        "outputId": "d7bc58ef-dfa3-4a15-8514-01c67484a145"
      },
      "execution_count": 7,
      "outputs": [
        {
          "output_type": "stream",
          "name": "stdout",
          "text": [
            "1-2-3\n"
          ]
        }
      ]
    },
    {
      "cell_type": "code",
      "source": [
        "#Print with end Parameter: Print the following sentence with no newline at the end: \"Learning Python is fun\".\n",
        "print(\"I love python\",end=\" Learning python is fun\")\n"
      ],
      "metadata": {
        "colab": {
          "base_uri": "https://localhost:8080/"
        },
        "id": "kSsR8xYPeyt_",
        "outputId": "d782e43c-4815-48c1-8583-e7af044812be"
      },
      "execution_count": 16,
      "outputs": [
        {
          "output_type": "stream",
          "name": "stdout",
          "text": [
            "I love python Learning python is fun"
          ]
        }
      ]
    },
    {
      "cell_type": "code",
      "source": [
        "#String Concatenation: Print the following sentence using string concatenation: \"Hello, my name is Alice.\"\n",
        "print(\"Hello, my name is\"+\"Alice\")\n"
      ],
      "metadata": {
        "colab": {
          "base_uri": "https://localhost:8080/"
        },
        "id": "4m5xocGtqD-3",
        "outputId": "1f7e35d8-c989-4e1c-9aac-103ddbcfce58"
      },
      "execution_count": 22,
      "outputs": [
        {
          "output_type": "stream",
          "name": "stdout",
          "text": [
            "Hello, my name isAlice\n"
          ]
        }
      ]
    },
    {
      "cell_type": "code",
      "source": [
        "#Using + for Concatenation: Concatenate and print the strings: \"I am \" and \"25 years old\"\n",
        "print(\"i am\" + \" and \" \"is Alice\")"
      ],
      "metadata": {
        "colab": {
          "base_uri": "https://localhost:8080/"
        },
        "id": "DUGlEI5kqLhp",
        "outputId": "04e0cbec-1dd7-49bb-a61c-558eb88ea96f"
      },
      "execution_count": 30,
      "outputs": [
        {
          "output_type": "stream",
          "name": "stdout",
          "text": [
            "i am and is Alice\n"
          ]
        }
      ]
    },
    {
      "cell_type": "code",
      "source": [
        "#Formatted String (f-string): Write a Python program that prints: \"My name is John, and I am 30 years old\" using an f-string.\n",
        "name=\"John\"\n",
        "age=30\n",
        "print(f\"My name is {name}, and i am {age}  years old\")"
      ],
      "metadata": {
        "colab": {
          "base_uri": "https://localhost:8080/"
        },
        "id": "IjkG04KnrScu",
        "outputId": "055280e9-0ee9-45a7-9548-db40f8635d87"
      },
      "execution_count": 32,
      "outputs": [
        {
          "output_type": "stream",
          "name": "stdout",
          "text": [
            "My name is John, and i am 30  years old\n"
          ]
        }
      ]
    },
    {
      "cell_type": "code",
      "source": [
        "#Print with Newlines: Write a program to print the following using multiple print() statements:\n",
        "print(\"Apple \\norange\")\n"
      ],
      "metadata": {
        "colab": {
          "base_uri": "https://localhost:8080/"
        },
        "id": "s4VyHgqJsCbt",
        "outputId": "3de83a31-5e85-4e75-dabb-4517bc58203a"
      },
      "execution_count": 34,
      "outputs": [
        {
          "output_type": "stream",
          "name": "stdout",
          "text": [
            "Apple \n",
            "orange\n"
          ]
        }
      ]
    },
    {
      "cell_type": "code",
      "source": [
        "#Print with Tab Spaces: Write a Python program to print three words with a tab space between them. Example output: apple orange banana\n",
        "print(\"apple\\tbanana\\torange\")"
      ],
      "metadata": {
        "colab": {
          "base_uri": "https://localhost:8080/"
        },
        "id": "NLsR9pKWsVz8",
        "outputId": "5166b234-fa6c-4512-bbdc-b1979b53d35c"
      },
      "execution_count": 35,
      "outputs": [
        {
          "output_type": "stream",
          "name": "stdout",
          "text": [
            "apple\tbanana\torange\n"
          ]
        }
      ]
    }
  ]
}